{
 "cells": [
  {
   "cell_type": "code",
   "execution_count": 1,
   "metadata": {
    "colab": {
     "base_uri": "https://localhost:8080/",
     "height": 119
    },
    "colab_type": "code",
    "id": "kffSOYcgir5Q",
    "outputId": "9507a884-8d9d-4906-8715-0a0afbd32180"
   },
   "outputs": [
    {
     "name": "stdout",
     "output_type": "stream",
     "text": [
      "Versão do pandas -> 1.4.2\n",
      "Versão do numpy -> 1.22.4\n",
      "Versão do scipy -> 1.8.1\n",
      "Versão do statsmodels -> 0.13.2\n",
      "Versão do seaborn -> 0.11.2\n",
      "Versão do matplotlib -> 3.5.2\n"
     ]
    }
   ],
   "source": [
    "import pandas, numpy, scipy, statsmodels, seaborn, matplotlib\n",
    "\n",
    "print('Versão do pandas -> %s' % pandas.__version__)\n",
    "print('Versão do numpy -> %s' % numpy.__version__)\n",
    "print('Versão do scipy -> %s' % scipy.__version__)\n",
    "print('Versão do statsmodels -> %s' % statsmodels.__version__)\n",
    "print('Versão do seaborn -> %s' % seaborn.__version__)\n",
    "print('Versão do matplotlib -> %s' % matplotlib.__version__)"
   ]
  }
 ],
 "metadata": {
  "colab": {
   "name": "Versão_bibliotecas.ipynb",
   "provenance": [],
   "version": "0.3.2"
  },
  "interpreter": {
   "hash": "254f9874f0a967e4c7fbf512087c9d42aa8678a65b0d82db0185de8b4c2a2107"
  },
  "kernelspec": {
   "display_name": "Python 3.9.12 ('curso_estatistica')",
   "language": "python",
   "name": "python3"
  },
  "language_info": {
   "codemirror_mode": {
    "name": "ipython",
    "version": 3
   },
   "file_extension": ".py",
   "mimetype": "text/x-python",
   "name": "python",
   "nbconvert_exporter": "python",
   "pygments_lexer": "ipython3",
   "version": "3.9.12"
  }
 },
 "nbformat": 4,
 "nbformat_minor": 1
}
